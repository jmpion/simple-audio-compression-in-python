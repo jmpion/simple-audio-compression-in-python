{
 "cells": [
  {
   "cell_type": "markdown",
   "metadata": {},
   "source": [
    "# Simple audio compression in Python"
   ]
  },
  {
   "cell_type": "markdown",
   "metadata": {},
   "source": [
    "The aim of this notebook is to compress audio files by changing their sample rate."
   ]
  },
  {
   "cell_type": "markdown",
   "metadata": {},
   "source": [
    "Let's first load the source file that we want to compress. We will start from an mp3 file since it is a very common format for audio files. As a first step, we convert this mp3 file into a wav file."
   ]
  },
  {
   "cell_type": "code",
   "execution_count": 1,
   "metadata": {},
   "outputs": [],
   "source": [
    "# Consider running the following line if pydub is not already installed:\n",
    "# !pip install pydub "
   ]
  },
  {
   "cell_type": "code",
   "execution_count": 2,
   "metadata": {},
   "outputs": [
    {
     "data": {
      "text/plain": [
       "<_io.BufferedRandom name='source_file.wav'>"
      ]
     },
     "execution_count": 2,
     "metadata": {},
     "output_type": "execute_result"
    }
   ],
   "source": [
    "from pydub import AudioSegment\n",
    "\n",
    "mp3File = \"source_file.mp3\"\n",
    "wavFile = \"source_file.wav\"\n",
    "\n",
    "# Convert wav to mp3                                                            \n",
    "audio = AudioSegment.from_mp3(mp3File)\n",
    "audio.export(wavFile, format=\"wav\")"
   ]
  },
  {
   "cell_type": "markdown",
   "metadata": {},
   "source": [
    "We then retrieve the data from the wav file."
   ]
  },
  {
   "cell_type": "code",
   "execution_count": 3,
   "metadata": {},
   "outputs": [],
   "source": [
    "# Consider running the following line if soundfile is not already installed:\n",
    "# !pip install soundfile "
   ]
  },
  {
   "cell_type": "code",
   "execution_count": 4,
   "metadata": {},
   "outputs": [],
   "source": [
    "import numpy as np\n",
    "import soundfile as sf\n",
    "import matplotlib.pyplot as plt\n",
    "\n",
    "# Retrieve the data from the wav file\n",
    "data, samplerate = sf.read(wavFile) "
   ]
  },
  {
   "cell_type": "markdown",
   "metadata": {},
   "source": [
    "* **data** is a 2D-array (with dimensions 2x$n$, with $n$ an integer), that contains the audio data.  \n",
    "* **samplerate** is the sample rate, which is the number of samples of the audio we have, per second."
   ]
  },
  {
   "cell_type": "code",
   "execution_count": 5,
   "metadata": {},
   "outputs": [
    {
     "name": "stdout",
     "output_type": "stream",
     "text": [
      "Sample rate : 48000 Hz\n"
     ]
    }
   ],
   "source": [
    "print(\"Sample rate : {} Hz\".format(samplerate))"
   ]
  },
  {
   "cell_type": "markdown",
   "metadata": {},
   "source": [
    "Here, the sample rate is 48kHz, which is a standard sampling rate."
   ]
  },
  {
   "cell_type": "markdown",
   "metadata": {},
   "source": [
    "Before we start working with audio data, you may wonder what those data physically represent. In fact, sound corresponds to the variation of air pressure, which is then converted to voltages, in order to process it with computers. Thus those audio data can be seen as air pressure variation, or voltages."
   ]
  },
  {
   "cell_type": "markdown",
   "metadata": {},
   "source": [
    "For convenience, let's first decompose and rename the different information we have."
   ]
  },
  {
   "cell_type": "code",
   "execution_count": 6,
   "metadata": {},
   "outputs": [],
   "source": [
    "import numpy as np\n",
    "\n",
    "n = len(data) #the length of the arrays contained in data\n",
    "Fs = samplerate #the sample rate\n",
    "\n",
    "# Working with stereo audio, there are two channels in the audio data.\n",
    "# Let's retrieve each channel seperately:\n",
    "ch1 = np.array([data[i][0] for i in range(n)]) #channel 1\n",
    "ch2 = np.array([data[i][1] for i in range(n)]) #channel 2"
   ]
  },
  {
   "cell_type": "markdown",
   "metadata": {},
   "source": [
    "Both channels ch1 and ch2 contain samples from a continuous-time signal. Those samples are taken with a sample rate $F_s$, meaning that those are values from a continuous-time signal that were taken every $1/F_s$ seconds. Mathematically speaking, if $x(t)$ is the time-continuous signal from which we take samples, and $\\tilde{x}[k]$ is the sampled signal (so ch1 here for example), then we have for all $0 \\leq k < n$\n",
    "$$ \\tilde{x}[k] = x\\left(\\dfrac{k}{F_s}\\right). $$"
   ]
  },
  {
   "cell_type": "markdown",
   "metadata": {},
   "source": [
    "We can then perform a Fourier analysis on the first channel to see what the spectrum looks like. According to the Nyquist-Shannon theorem, we only look at frequencies below $F_s/2$."
   ]
  },
  {
   "cell_type": "code",
   "execution_count": 7,
   "metadata": {},
   "outputs": [
    {
     "data": {
      "image/png": "[encoded data removed]",
      "text/plain": [
       "<Figure size 432x288 with 1 Axes>"
      ]
     },
     "metadata": {
      "needs_background": "light"
     },
     "output_type": "display_data"
    }
   ],
   "source": [
    "ch1_Fourier = np.fft.fft(ch1) #performing Fast Fourier Transform\n",
    "abs_ch1_Fourier = np.absolute(ch1_Fourier[:n//2]) #the spectrum\n",
    "\n",
    "plt.plot(np.linspace(0, Fs / 2, n//2), abs_ch1_Fourier)\n",
    "plt.ylabel('Spectrum')\n",
    "plt.xlabel('$f$ (Hz)')\n",
    "plt.show()"
   ]
  },
  {
   "cell_type": "markdown",
   "metadata": {},
   "source": [
    "Now, let's define a frequency $f_0$ above which we will cut the spectrum, meaning that we only keep the frequencies below $f_0$ in the compressed audio file. To do that, we introduce a parameter $\\varepsilon$ ($0<\\varepsilon<1$) that represents the share of the spectrum energy that we do not keep.\n",
    "<br> Here, we use $\\varepsilon=10^{-5}$ to remove only a small portion of the spectrum, but one can change the value of $\\varepsilon$ and see how $f_0$ and the output audio file change. Intuitively, as $\\varepsilon$ increases, we keep less frequencies so the audio quality is poorer, but the size of the output file is more reduced."
   ]
  },
  {
   "cell_type": "code",
   "execution_count": 8,
   "metadata": {},
   "outputs": [
    {
     "name": "stdout",
     "output_type": "stream",
     "text": [
      "f0 : 23810 Hz\n"
     ]
    }
   ],
   "source": [
    "eps = 1e-5\n",
    "\n",
    "# Boolean array where each value indicates whether we keep the corresponding frequency\n",
    "frequenciesToRemove = (1 - eps) * np.sum(abs_ch1_Fourier) < np.cumsum(abs_ch1_Fourier)   \n",
    "\n",
    "# The frequency for which we cut the spectrum\n",
    "f0 = (len(frequenciesToRemove) - np.sum(frequenciesToRemove) )* (Fs / 2) / (n / 2)\n",
    "\n",
    "print(\"f0 : {} Hz\".format(int(f0)))"
   ]
  },
  {
   "cell_type": "markdown",
   "metadata": {},
   "source": [
    "To compress the audio file, we are going to do a simple downsampling here. Downsampling with a factor $D\\in\\mathbb{N}$ means that we will only keep the sequence $\\tilde{x_D}$ defined for all $k$ by\n",
    "$$\\tilde{x_D}[k] = \\tilde{x}[D k].$$ \n",
    "\n",
    "To find what value of $D$ we should use for downsampling, one way is to compute $D = \\left \\lfloor \\dfrac{F_s}{f_0} \\right \\rfloor$. This way, the new sample rate will be $F_s / D = \\dfrac{F_s}{\\left \\lfloor \\dfrac{F_s}{f_0} \\right \\rfloor} \\gtrsim f_0$. So the frequencies which constitute the main part of the spectrum will remain below the new sample rate."
   ]
  },
  {
   "cell_type": "markdown",
   "metadata": {},
   "source": [
    "The code below implements the downsampling of the audio file."
   ]
  },
  {
   "cell_type": "code",
   "execution_count": 9,
   "metadata": {},
   "outputs": [
    {
     "name": "stdout",
     "output_type": "stream",
     "text": [
      "Downsampling factor : 2\n"
     ]
    },
    {
     "data": {
      "text/plain": [
       "<_io.BufferedRandom name='audio_compressed.mp3'>"
      ]
     },
     "execution_count": 9,
     "metadata": {},
     "output_type": "execute_result"
    }
   ],
   "source": [
    "#First we define the names of the output files\n",
    "\n",
    "wavCompressedFile = \"audio_compressed.wav\"\n",
    "mp3CompressedFile = \"audio_compressed.mp3\"\n",
    "\n",
    "#Then we define the downsampling factor\n",
    "D = int(Fs / f0)\n",
    "print(\"Downsampling factor : {}\".format(D))\n",
    "new_data = data[::D, :] #getting the downsampled data\n",
    "\n",
    "#Writing the new data into a wav file\n",
    "sf.write(wavCompressedFile, new_data, int(Fs / D), 'PCM_16')\n",
    "\n",
    "#Converting back to mp3\n",
    "\n",
    "audioCompressed = AudioSegment.from_wav(wavCompressedFile)\n",
    "audioCompressed.export(mp3CompressedFile, format=\"mp3\")"
   ]
  },
  {
   "cell_type": "markdown",
   "metadata": {},
   "source": [
    "When downsampling, there is usually loss and distortion, so the audio quality deteriorates. Therefore, there is a **trade-off between audio quality and storage**.\n",
    "\n",
    "There are several reasons why the audio quality deteriorates:\n",
    "* as a consequence of Nyquist-Shannon sampling theorem, there may be aliasing.\n",
    "* frequencies above half the sample rate are not in the spectrum of the compressed audio anymore.\n",
    "\n",
    "Some techniques can be further used to perform a better audio compression, for example resorting to anti-aliasing filters, but this is not the topic of this notebook."
   ]
  }
 ],
 "metadata": {
  "kernelspec": {
   "display_name": "Python 3",
   "language": "python",
   "name": "python3"
  },
  "language_info": {
   "codemirror_mode": {
    "name": "ipython",
    "version": 3
   },
   "file_extension": ".py",
   "mimetype": "text/x-python",
   "name": "python",
   "nbconvert_exporter": "python",
   "pygments_lexer": "ipython3",
   "version": "3.8.3"
  }
 },
 "nbformat": 4,
 "nbformat_minor": 4
}
